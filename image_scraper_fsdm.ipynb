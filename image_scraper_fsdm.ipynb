{
 "cells": [
  {
   "cell_type": "code",
   "execution_count": 1,
   "id": "6f809db2-d253-4a0e-a67f-77058f14f2b7",
   "metadata": {},
   "outputs": [],
   "source": [
    "import requests\n",
    "import logging\n",
    "import os\n",
    "from bs4 import BeautifulSoup\n",
    "from urllib.request import urlopen"
   ]
  },
  {
   "cell_type": "code",
   "execution_count": 2,
   "id": "b29b7860-7909-4460-b777-0f871e2db75e",
   "metadata": {},
   "outputs": [],
   "source": [
    "save_dir=\"images/\"\n",
    "if not os.path.exists(save_dir):\n",
    "    os.makedirs(save_dir)\n"
   ]
  },
  {
   "cell_type": "code",
   "execution_count": 21,
   "id": "3fe16f94-1140-4f68-9c0e-0c18e17e2f09",
   "metadata": {},
   "outputs": [],
   "source": [
    "query=\"lionel messi\"\n",
    "#url=https://www.google.com/search?q=query&sca_esv=596866593&tbm=isch&sxsrf=ACQVn0_doOK6ezSM5e25-XYmaXfLoTPD_g:1704802321448&source=lnms&sa=X&ved=2ahUKEwiW06DGo9CDAxXBdqQEHcLiCEIQ_AUoAnoECAIQBA&biw=1280&bih=598&dpr=1.5\n"
   ]
  },
  {
   "cell_type": "code",
   "execution_count": 22,
   "id": "ab1a85ae-a770-4dcb-94dd-c6d0f64e03d3",
   "metadata": {},
   "outputs": [],
   "source": [
    "response=requests.get(f\"https://www.google.com/search?q={query}&sca_esv=596866593&tbm=isch&sxsrf=ACQVn0_doOK6ezSM5e25-XYmaXfLoTPD_g:1704802321448&source=lnms&sa=X&ved=2ahUKEwiW06DGo9CDAxXBdqQEHcLiCEIQ_AUoAnoECAIQBA&biw=1280&bih=598&dpr=1.5\")"
   ]
  },
  {
   "cell_type": "code",
   "execution_count": 23,
   "id": "914a9ab7-53fa-40e1-afff-c0531521d37f",
   "metadata": {},
   "outputs": [
    {
     "data": {
      "text/plain": [
       "<Response [200]>"
      ]
     },
     "execution_count": 23,
     "metadata": {},
     "output_type": "execute_result"
    }
   ],
   "source": [
    "response"
   ]
  },
  {
   "cell_type": "code",
   "execution_count": 24,
   "id": "94d5a1c4-5f37-4e3b-bcba-a69baf0b1846",
   "metadata": {
    "scrolled": true
   },
   "outputs": [],
   "source": [
    "soup=BeautifulSoup(response.content,\"html.parser\")"
   ]
  },
  {
   "cell_type": "code",
   "execution_count": 25,
   "id": "f23db2f3-8bfa-4fd0-bd60-596a5a216ac1",
   "metadata": {},
   "outputs": [
    {
     "data": {
      "text/plain": [
       "<!DOCTYPE html PUBLIC \"-//WAPFORUM//DTD XHTML Mobile 1.0//EN\" \"http://www.wapforum.org/DTD/xhtml-mobile10.dtd\">\n",
       "<html lang=\"sw-KE\" xmlns=\"http://www.w3.org/1999/xhtml\"><head><meta content=\"application/xhtml+xml; charset=utf-8\" http-equiv=\"Content-Type\"/><meta content=\"no-cache\" name=\"Cache-Control\"/><title>lionel messi - Tafuta na Google</title><style>a{text-decoration:none;color:inherit}a:hover{text-decoration:underline}a img{border:0}body{font-family:arial,sans-serif;padding:8px;margin:0 auto;max-width:700px;min-width:240px;}.FbhRzb{border-left:thin solid #dadce0;border-right:thin solid #dadce0;border-top:thin solid #dadce0;height:40px;overflow:hidden}.n692Zd{margin-bottom:10px}.cvifge{height:40px;border-spacing:0}.QvGUP{height:40px;padding:0 8px 0 8px;vertical-align:top}.O4cRJf{height:40px;width:100%;padding:0;padding-right:16px}.O1ePr{height:40px;padding:0;vertical-align:top}.kgJEQe{height:36px;width:98px;vertical-align:top;margin-top:4px}.lXLRf{vertical-align:top}.MhzMZd{border:0;vertical-align:middle;font-size:14px;height:40px;padding:0;width:100%;padding-left:16px}.xB0fq{height:40px;border:none;font-size:14px;background-color:#1a73e8;color:#fff;padding:0 16px;margin:0;vertical-align:top;cursor:pointer}.xB0fq:focus{border:1px solid #1a73e8}.M7pB2{border:thin solid #dadce0;margin:0 0 3px 0;font-size:13px;font-weight:500;height:40px}.euZec{width:100%;height:40px;text-align:center;border-spacing:0}table.euZec td{padding:0;width:25%}.QIqI7{display:inline-block;padding-top:4px;font-weight:bold;color:#4285f4}.EY24We{border-bottom:2px solid #4285f4}.CsQyDc{display:inline-block;color:#70757a}.TuS8Ad{font-size:14px}.HddGcc{padding:8px;color:#70757a}.dzp8ae{font-weight:bold;color:#3c4043}.rEM8G{color:#70757a}.bookcf{table-layout:fixed;width:100%;border-spacing:0}.InWNIe{text-align:center}.uZgmoc{border:thin solid #dadce0;color:#70757a;font-size:14px;text-align:center;table-layout:fixed;width:100%}.frGj1b{display:block;padding:12px 0 12px 0;width:100%}.BnJWBc{text-align:center;padding:6px 0 13px 0;height:35px}.e3goi{vertical-align:top;padding:0;height:180px}.GpQGbf{margin:auto;border-collapse:collapse;border-spacing:0;width:100%}</style></head><body><style>.X6ZCif{color:#202124;font-size:11px;line-height:16px;display:inline-block;padding-top:2px;overflow:hidden;padding-bottom:4px;width:100%}.TwVfHd{border-radius:16px;border:thin solid #dadce0;display:inline-block;padding:8px 8px;margin-right:8px;margin-bottom:4px}.yekiAe{background-color:#dadce0}.jjVJ4e{width:100%}.ezO2md{border:thin solid #dadce0;padding:12px 16px 12px 16px;margin-bottom:10px;font-family:arial,sans-serif}.lIMUZd{font-family:arial,sans-serif}.RntSmf{border-spacing:0}.lgD2Tc{width:100%}.SpelHe{text-align:center}.SpelHe{position:relative}.deHqpb{bottom:0;left:0;margin:auto;position:absolute;right:0;top:0}.kCmkOe{position:relative}.ID6Z3b{background-image:url(https://www.gstatic.com/search_trustx/visibility_off_icon_p0-7d897bf44bafe5436baa9009e8716337.png);background-repeat:no-repeat;background-position:center;background-size:20px}.kCmkOe{width:162px;height:140px;line-height:140px;overflow:'hidden';text-align:center}.DS1iW{text-align:center;margin:auto;vertical-align:middle;max-width:162px;max-height:140px}.AlD19d{padding-top:2px;padding-bottom:8px;}.fYyStc{word-break:break-word}.ynsChf{display:block;white-space:nowrap;overflow:hidden;text-overflow:ellipsis}.Fj3V3b{color:#1967d2;font-size:14px;line-height:20px}.FrIlee{color:#202124;font-size:11px;line-height:16px}.F9iS2e{color:#70757a;font-size:11px;line-height:16px}.WMQ2Le{color:#70757a;font-size:12px;line-height:16px}.x3G5ab{color:#202124;font-size:12px;line-height:16px}.fuLhoc{color:#1967d2;font-size:16px;line-height:20px}.epoveb{font-size:24px;line-height:28px;font-weight:400;color:#202124}.dXDvrc{color:#0d652d;font-size:14px;line-height:20px;word-wrap:break-word}.dloBPe{font-weight:bold}.YVIcad{color:#70757a}.JkVVdd{color:#ea4335}.oXZRFd{color:#ea4335}.MQHtg{color:#fbbc04}.pyMRrb{color:#1e8e3e}.EtTZid{color:#1e8e3e}.M3vVJe{color:#1967d2}.qXLe6d{display:block}.NHQNef{font-style:italic}.Cb8Z7c{white-space:pre}a.ZWRArf{text-decoration:none}a .CVA68e:hover{text-decoration:underline}</style><div class=\"n692Zd\"><div class=\"BnJWBc\"><a class=\"lXLRf\" href=\"/?sa=X&amp;sca_esv=596866593&amp;biw=1280&amp;bih=598&amp;output=images&amp;ie=UTF-8&amp;tbm=isch&amp;ved=0ahUKEwj2jtOKrtKDAxXxUUEAHWx_AawQPAgC\"><img alt=\"Google\" class=\"kgJEQe\" src=\"/images/branding/searchlogo/1x/googlelogo_desk_heirloom_color_150x55dp.gif\"/></a></div><div class=\"FbhRzb\"><form action=\"/search\"><input name=\"sca_esv\" type=\"hidden\" value=\"596866593\"/><input name=\"biw\" type=\"hidden\" value=\"1280\"/><input name=\"bih\" type=\"hidden\" value=\"598\"/><input name=\"ie\" type=\"hidden\" value=\"ISO-8859-1\"/><input name=\"tbm\" type=\"hidden\" value=\"isch\"/><input name=\"oq\" type=\"hidden\"/><input name=\"aqs\" type=\"hidden\"/><table class=\"cvifge\"><tr><td class=\"O4cRJf\"><input class=\"MhzMZd\" name=\"q\" type=\"text\" value=\"lionel messi\"/></td><td class=\"O1ePr\"><input class=\"xB0fq\" type=\"submit\" value=\"Tafuta\"/></td></tr></table></form></div><div class=\"M7pB2\"><table class=\"euZec\"><tbody><tr><td><a class=\"CsQyDc\" href=\"/search?q=lionel+messi&amp;sca_esv=596866593&amp;biw=1280&amp;bih=598&amp;ie=UTF-8&amp;source=lnms&amp;sa=X&amp;ved=0ahUKEwj2jtOKrtKDAxXxUUEAHWx_AawQ_AUIBCgA\">ZOTE</a></td><td class=\"EY24We\"><span class=\"QIqI7\">PICHA</span></td><td><a class=\"CsQyDc\" href=\"/search?q=lionel+messi&amp;sca_esv=596866593&amp;biw=1280&amp;bih=598&amp;ie=UTF-8&amp;tbm=vid&amp;source=lnms&amp;sa=X&amp;ved=0ahUKEwj2jtOKrtKDAxXxUUEAHWx_AawQ_AUIBigC\">VIDEO</a></td></tr></tbody></table></div></div><div class=\"X6ZCif\"><a class=\"TwVfHd\" href=\"/search?sca_esv=596866593&amp;biw=1280&amp;bih=598&amp;ie=UTF-8&amp;tbm=isch&amp;q=lionel+messi&amp;chips=q:lionel+messi,online_chips:fifa+world+cup+2022&amp;sa=X&amp;ved=0ahUKEwj2jtOKrtKDAxXxUUEAHWx_AawQ4lYICigA\">fifa world cup 2022</a><a class=\"TwVfHd\" href=\"/search?sca_esv=596866593&amp;biw=1280&amp;bih=598&amp;ie=UTF-8&amp;tbm=isch&amp;q=lionel+messi&amp;chips=q:lionel+messi,online_chips:fc+barcelona&amp;sa=X&amp;ved=0ahUKEwj2jtOKrtKDAxXxUUEAHWx_AawQ4lYICygB\">fc barcelona</a><a class=\"TwVfHd\" href=\"/search?sca_esv=596866593&amp;biw=1280&amp;bih=598&amp;ie=UTF-8&amp;tbm=isch&amp;q=lionel+messi&amp;chips=q:lionel+messi,online_chips:football+player&amp;sa=X&amp;ved=0ahUKEwj2jtOKrtKDAxXxUUEAHWx_AawQ4lYIDCgC\">football player</a><a class=\"TwVfHd\" href=\"/search?sca_esv=596866593&amp;biw=1280&amp;bih=598&amp;ie=UTF-8&amp;tbm=isch&amp;q=lionel+messi&amp;chips=q:lionel+messi,online_chips:soccer+player&amp;sa=X&amp;ved=0ahUKEwj2jtOKrtKDAxXxUUEAHWx_AawQ4lYIDSgD\">soccer player</a><a class=\"TwVfHd\" href=\"/search?sca_esv=596866593&amp;biw=1280&amp;bih=598&amp;ie=UTF-8&amp;tbm=isch&amp;q=lionel+messi&amp;chips=q:lionel+messi,online_chips:argentina&amp;sa=X&amp;ved=0ahUKEwj2jtOKrtKDAxXxUUEAHWx_AawQ4lYIDigE\">argentina</a><a class=\"TwVfHd\" href=\"/search?sca_esv=596866593&amp;biw=1280&amp;bih=598&amp;ie=UTF-8&amp;tbm=isch&amp;q=lionel+messi&amp;chips=q:lionel+messi,online_chips:barcelona+football&amp;sa=X&amp;ved=0ahUKEwj2jtOKrtKDAxXxUUEAHWx_AawQ4lYIDygF\">barcelona football</a><a class=\"TwVfHd\" href=\"/search?sca_esv=596866593&amp;biw=1280&amp;bih=598&amp;ie=UTF-8&amp;tbm=isch&amp;q=lionel+messi&amp;chips=q:lionel+messi,online_chips:playing+football&amp;sa=X&amp;ved=0ahUKEwj2jtOKrtKDAxXxUUEAHWx_AawQ4lYIECgG\">playing football</a><a class=\"TwVfHd\" href=\"/search?sca_esv=596866593&amp;biw=1280&amp;bih=598&amp;ie=UTF-8&amp;tbm=isch&amp;q=lionel+messi&amp;chips=q:lionel+messi,online_chips:playing+soccer&amp;sa=X&amp;ved=0ahUKEwj2jtOKrtKDAxXxUUEAHWx_AawQ4lYIESgH\">playing soccer</a><a class=\"TwVfHd\" href=\"/search?sca_esv=596866593&amp;biw=1280&amp;bih=598&amp;ie=UTF-8&amp;tbm=isch&amp;q=lionel+messi&amp;chips=q:lionel+messi,online_chips:football+team&amp;sa=X&amp;ved=0ahUKEwj2jtOKrtKDAxXxUUEAHWx_AawQ4lYIEigI\">football team</a><a class=\"TwVfHd\" href=\"/search?sca_esv=596866593&amp;biw=1280&amp;bih=598&amp;ie=UTF-8&amp;tbm=isch&amp;q=lionel+messi&amp;chips=q:lionel+messi,online_chips:ballon+d&amp;sa=X&amp;ved=0ahUKEwj2jtOKrtKDAxXxUUEAHWx_AawQ4lYIEygJ\">ballon d</a></div><div><table class=\"GpQGbf\"><tr><td align=\"center\" class=\"e3goi\"><div class=\"jjVJ4e\"> <div> <div class=\"lIMUZd\"><div><table class=\"RntSmf\"><tr><td><a href=\"/url?q=https://en.wikipedia.org/wiki/Lionel_Messi&amp;sa=U&amp;ved=2ahUKEwj2jtOKrtKDAxXxUUEAHWx_AawQqoUBegQIBhAB&amp;usg=AOvVaw0_Vm4a66n7-3Nw7RjnZBPg\"><div class=\"kCmkOe\"><img alt=\"\" class=\"DS1iW\" src=\"https://encrypted-tbn0.gstatic.com/images?q=tbn:ANd9GcSpgvrebhAaXe_EfR-TQC5ggCmDUU8xKBUbuOWBepEhn64Vw42kDcNgK7JAbA&amp;s\"/></div></a></td></tr><tr><td><a href=\"/url?q=https://en.wikipedia.org/wiki/Lionel_Messi&amp;sa=U&amp;ved=2ahUKEwj2jtOKrtKDAxXxUUEAHWx_AawQr4kDegQIBhAC&amp;usg=AOvVaw3rmr7pjomZYNg4CsBztTcv\"><div class=\"AlD19d\"> <span class=\"qXLe6d x3G5ab\"> <span class=\"fYyStc\">Lionel Messi - Wikipedia</span> </span> <span class=\"qXLe6d F9iS2e\"> <span class=\"fYyStc\">en.wikipedia.org</span> </span> </div></a></td></tr></table></div></div> </div> </div></td><td align=\"center\" class=\"e3goi\"><div class=\"jjVJ4e\"> <div> <div class=\"lIMUZd\"><div><table class=\"RntSmf\"><tr><td><a href=\"/url?q=https://www.britannica.com/biography/Lionel-Messi&amp;sa=U&amp;ved=2ahUKEwj2jtOKrtKDAxXxUUEAHWx_AawQqoUBegQIEhAB&amp;usg=AOvVaw1di4Fn0gMGG2lO4hL5nCqH\"><div class=\"kCmkOe\"><img alt=\"\" class=\"DS1iW\" src=\"https://encrypted-tbn0.gstatic.com/images?q=tbn:ANd9GcQD72SPCdAxR_GC97hqgsRsnOYyQSNYJ8e0d5Tw_Ge6IeYSIRZ6R8Jl1VS4dw&amp;s\"/></div></a></td></tr><tr><td><a href=\"/url?q=https://www.britannica.com/biography/Lionel-Messi&amp;sa=U&amp;ved=2ahUKEwj2jtOKrtKDAxXxUUEAHWx_AawQr4kDegQIEhAC&amp;usg=AOvVaw1PbVhXWifQAcoklxkTFV5n\"><div class=\"AlD19d\"> <span class=\"qXLe6d x3G5ab\"> <span class=\"fYyStc\">Lionel Messi | Biography,...</span> </span> <span class=\"qXLe6d F9iS2e\"> <span class=\"fYyStc\">www.britannica.com</span> </span> </div></a></td></tr></table></div></div> </div> </div></td><td align=\"center\" class=\"e3goi\"><div class=\"jjVJ4e\"> <div> <div class=\"lIMUZd\"><div><table class=\"RntSmf\"><tr><td><a href=\"/url?q=https://www.transfermarkt.com/lionel-messi/profil/spieler/28003&amp;sa=U&amp;ved=2ahUKEwj2jtOKrtKDAxXxUUEAHWx_AawQqoUBegQIDxAB&amp;usg=AOvVaw0Mjsz32orW7p-uTGvTjAvu\"><div class=\"kCmkOe\"><img alt=\"\" class=\"DS1iW\" src=\"https://encrypted-tbn0.gstatic.com/images?q=tbn:ANd9GcS7OF-X1AL4kGUkasPxwk_CmwIHFgtBkoku57AK4-IbryuRMYtCN37zq-NaE5U&amp;s\"/></div></a></td></tr><tr><td><a href=\"/url?q=https://www.transfermarkt.com/lionel-messi/profil/spieler/28003&amp;sa=U&amp;ved=2ahUKEwj2jtOKrtKDAxXxUUEAHWx_AawQr4kDegQIDxAC&amp;usg=AOvVaw107TPMhFPdgc9Oy5FFn0U1\"><div class=\"AlD19d\"> <span class=\"qXLe6d x3G5ab\"> <span class=\"fYyStc\">Lionel Messi - Player...</span> </span> <span class=\"qXLe6d F9iS2e\"> <span class=\"fYyStc\">www.transfermarkt.com</span> </span> </div></a></td></tr></table></div></div> </div> </div></td><td align=\"center\" class=\"e3goi\"><div class=\"jjVJ4e\"> <div> <div class=\"lIMUZd\"><div><table class=\"RntSmf\"><tr><td><a href=\"/url?q=https://www.biography.com/athletes/lionel-messi&amp;sa=U&amp;ved=2ahUKEwj2jtOKrtKDAxXxUUEAHWx_AawQqoUBegQIEBAB&amp;usg=AOvVaw1Zw5xw6jctc01_ARpKdD-u\"><div class=\"kCmkOe\"><img alt=\"\" class=\"DS1iW\" src=\"https://encrypted-tbn0.gstatic.com/images?q=tbn:ANd9GcSgHqE_lSoBWp1M34Vp8teXdLVRMQFp3Rv7BBoGFBOfLxiO4JS_IHGlFd51dRY&amp;s\"/></div></a></td></tr><tr><td><a href=\"/url?q=https://www.biography.com/athletes/lionel-messi&amp;sa=U&amp;ved=2ahUKEwj2jtOKrtKDAxXxUUEAHWx_AawQr4kDegQIEBAC&amp;usg=AOvVaw1fBuLVWSN2gX1togSFscCt\"><div class=\"AlD19d\"> <span class=\"qXLe6d x3G5ab\"> <span class=\"fYyStc\">Lionel Messi: Biography,...</span> </span> <span class=\"qXLe6d F9iS2e\"> <span class=\"fYyStc\">www.biography.com</span> </span> </div></a></td></tr></table></div></div> </div> </div></td></tr><tr><td align=\"center\" class=\"e3goi\"><div class=\"jjVJ4e\"> <div> <div class=\"lIMUZd\"><div><table class=\"RntSmf\"><tr><td><a href=\"/url?q=https://en.wikipedia.org/wiki/Lionel_Messi&amp;sa=U&amp;ved=2ahUKEwj2jtOKrtKDAxXxUUEAHWx_AawQqoUBegQIDRAB&amp;usg=AOvVaw0C97fT7bh01fl6fsdYZytL\"><div class=\"kCmkOe\"><img alt=\"\" class=\"DS1iW\" src=\"https://encrypted-tbn0.gstatic.com/images?q=tbn:ANd9GcR1bG0QNZX3dxwwOlEbbXk5mZe-BPKHzVx-4A1UE23Bl4V97Piss85-6JHdlSo&amp;s\"/></div></a></td></tr><tr><td><a href=\"/url?q=https://en.wikipedia.org/wiki/Lionel_Messi&amp;sa=U&amp;ved=2ahUKEwj2jtOKrtKDAxXxUUEAHWx_AawQr4kDegQIDRAC&amp;usg=AOvVaw0HUdhJ4FZyB79emzY1fyCE\"><div class=\"AlD19d\"> <span class=\"qXLe6d x3G5ab\"> <span class=\"fYyStc\">Lionel Messi - Wikipedia</span> </span> <span class=\"qXLe6d F9iS2e\"> <span class=\"fYyStc\">en.wikipedia.org</span> </span> </div></a></td></tr></table></div></div> </div> </div></td><td align=\"center\" class=\"e3goi\"><div class=\"jjVJ4e\"> <div> <div class=\"lIMUZd\"><div><table class=\"RntSmf\"><tr><td><a href=\"/url?q=https://players.fcbarcelona.com/en/player/548-messi-lionel-andres-messi-cuccitini&amp;sa=U&amp;ved=2ahUKEwj2jtOKrtKDAxXxUUEAHWx_AawQqoUBegQIDBAB&amp;usg=AOvVaw1tE2pCHhWV4YnV2gFm8IWH\"><div class=\"kCmkOe\"><img alt=\"\" class=\"DS1iW\" src=\"https://encrypted-tbn0.gstatic.com/images?q=tbn:ANd9GcQMPIuC9By6-8yzoPdGKQmbgB4IAsRJsSLw7PpWtyydP56ffNqEQA1Ay7Tt9g&amp;s\"/></div></a></td></tr><tr><td><a href=\"/url?q=https://players.fcbarcelona.com/en/player/548-messi-lionel-andres-messi-cuccitini&amp;sa=U&amp;ved=2ahUKEwj2jtOKrtKDAxXxUUEAHWx_AawQr4kDegQIDBAC&amp;usg=AOvVaw0lHMmmBo7cFPNlEWKvzsjN\"><div class=\"AlD19d\"> <span class=\"qXLe6d x3G5ab\"> <span class=\"fYyStc\">Lionel Andrés Messi...</span> </span> <span class=\"qXLe6d F9iS2e\"> <span class=\"fYyStc\">players.fcbarcelona.com</span> </span> </div></a></td></tr></table></div></div> </div> </div></td><td align=\"center\" class=\"e3goi\"><div class=\"jjVJ4e\"> <div> <div class=\"lIMUZd\"><div><table class=\"RntSmf\"><tr><td><a href=\"/url?q=https://www.britannica.com/biography/Lionel-Messi&amp;sa=U&amp;ved=2ahUKEwj2jtOKrtKDAxXxUUEAHWx_AawQqoUBegQIERAB&amp;usg=AOvVaw0fATUaQWQ3T2l-i1ts3-u8\"><div class=\"kCmkOe\"><img alt=\"\" class=\"DS1iW\" src=\"https://encrypted-tbn0.gstatic.com/images?q=tbn:ANd9GcQLltpaXoQs0dGD3TgV-ObuN_5DHpeoC0j39CFGl6jzT22JYo8keFna5IzEeA&amp;s\"/></div></a></td></tr><tr><td><a href=\"/url?q=https://www.britannica.com/biography/Lionel-Messi&amp;sa=U&amp;ved=2ahUKEwj2jtOKrtKDAxXxUUEAHWx_AawQr4kDegQIERAC&amp;usg=AOvVaw2TpzrJU_00hQyEDpzILBe8\"><div class=\"AlD19d\"> <span class=\"qXLe6d x3G5ab\"> <span class=\"fYyStc\">Lionel Messi | Biography,...</span> </span> <span class=\"qXLe6d F9iS2e\"> <span class=\"fYyStc\">www.britannica.com</span> </span> </div></a></td></tr></table></div></div> </div> </div></td><td align=\"center\" class=\"e3goi\"><div class=\"jjVJ4e\"> <div> <div class=\"lIMUZd\"><div><table class=\"RntSmf\"><tr><td><a href=\"/url?q=https://olympics.com/en/athletes/lionel-messi&amp;sa=U&amp;ved=2ahUKEwj2jtOKrtKDAxXxUUEAHWx_AawQqoUBegQIChAB&amp;usg=AOvVaw0dkqrS37n1i3XHiKE3h5Oc\"><div class=\"kCmkOe\"><img alt=\"\" class=\"DS1iW\" src=\"https://encrypted-tbn0.gstatic.com/images?q=tbn:ANd9GcRmnddW_uhvLfSpHWp655cF3qrq08sVHj9fcDooG2zRux5xp3DnVlncr2KR6YA&amp;s\"/></div></a></td></tr><tr><td><a href=\"/url?q=https://olympics.com/en/athletes/lionel-messi&amp;sa=U&amp;ved=2ahUKEwj2jtOKrtKDAxXxUUEAHWx_AawQr4kDegQIChAC&amp;usg=AOvVaw1WPlX4NaNNLhFP7MMa3QFR\"><div class=\"AlD19d\"> <span class=\"qXLe6d x3G5ab\"> <span class=\"fYyStc\">Lionel MESSI</span> </span> <span class=\"qXLe6d F9iS2e\"> <span class=\"fYyStc\">olympics.com</span> </span> </div></a></td></tr></table></div></div> </div> </div></td></tr><tr><td align=\"center\" class=\"e3goi\"><div class=\"jjVJ4e\"> <div> <div class=\"lIMUZd\"><div><table class=\"RntSmf\"><tr><td><a href=\"/url?q=https://www.espn.com/soccer/player/_/id/45843/lionel-messi&amp;sa=U&amp;ved=2ahUKEwj2jtOKrtKDAxXxUUEAHWx_AawQqoUBegQIDhAB&amp;usg=AOvVaw3ve8WpvmgqTgQaRotqfKh3\"><div class=\"kCmkOe\"><img alt=\"\" class=\"DS1iW\" src=\"https://encrypted-tbn0.gstatic.com/images?q=tbn:ANd9GcTbIa_CMVf1bz5-Pmh48djCgfrMhp-KW6-B5T-pAvLQ6f2PzLsYWxfYlBCbBWY&amp;s\"/></div></a></td></tr><tr><td><a href=\"/url?q=https://www.espn.com/soccer/player/_/id/45843/lionel-messi&amp;sa=U&amp;ved=2ahUKEwj2jtOKrtKDAxXxUUEAHWx_AawQr4kDegQIDhAC&amp;usg=AOvVaw280_QM3TzZigAN3JTTRb-c\"><div class=\"AlD19d\"> <span class=\"qXLe6d x3G5ab\"> <span class=\"fYyStc\">Lionel Messi - Inter Miami...</span> </span> <span class=\"qXLe6d F9iS2e\"> <span class=\"fYyStc\">www.espn.com</span> </span> </div></a></td></tr></table></div></div> </div> </div></td><td align=\"center\" class=\"e3goi\"><div class=\"jjVJ4e\"> <div> <div class=\"lIMUZd\"><div><table class=\"RntSmf\"><tr><td><a href=\"/url?q=https://www.goal.com/en-in/lists/explained-why-mls-move-help-lionel-messi-world-cup-mario-kempes-explains-inter-miami-right-career-call/blt55e8538ecb571efb&amp;sa=U&amp;ved=2ahUKEwj2jtOKrtKDAxXxUUEAHWx_AawQqoUBegQICxAB&amp;usg=AOvVaw2QzRwwBOA1ovkMT96VYebd\"><div class=\"kCmkOe\"><img alt=\"\" class=\"DS1iW\" src=\"https://encrypted-tbn0.gstatic.com/images?q=tbn:ANd9GcTTA2k_W7yG-2SfjFdJwGtM2hIWc_CPTuW7wfom5n1z4ZE4ymH97sNu1EPQkQ&amp;s\"/></div></a></td></tr><tr><td><a href=\"/url?q=https://www.goal.com/en-in/lists/explained-why-mls-move-help-lionel-messi-world-cup-mario-kempes-explains-inter-miami-right-career-call/blt55e8538ecb571efb&amp;sa=U&amp;ved=2ahUKEwj2jtOKrtKDAxXxUUEAHWx_AawQr4kDegQICxAC&amp;usg=AOvVaw1-hBpK7yGrHe2Nk5Wau8WM\"><div class=\"AlD19d\"> <span class=\"qXLe6d x3G5ab\"> <span class=\"fYyStc\">Explained: Why MLS move can...</span> </span> <span class=\"qXLe6d F9iS2e\"> <span class=\"fYyStc\">www.goal.com</span> </span> </div></a></td></tr></table></div></div> </div> </div></td><td align=\"center\" class=\"e3goi\"><div class=\"jjVJ4e\"> <div> <div class=\"lIMUZd\"><div><table class=\"RntSmf\"><tr><td><a href=\"/url?q=https://www.dailysabah.com/sports/football/is-lionel-messis-goat-status-officially-sealed&amp;sa=U&amp;ved=2ahUKEwj2jtOKrtKDAxXxUUEAHWx_AawQqoUBegQICRAB&amp;usg=AOvVaw2GnnelDtOt5MHziMOEKUtR\"><div class=\"kCmkOe\"><img alt=\"\" class=\"DS1iW\" src=\"https://encrypted-tbn0.gstatic.com/images?q=tbn:ANd9GcT1uUJFqXuftITESV7zUoRdcqVMsuvj_16_NByVQykVeEtuhEPzBV89mqRYQA&amp;s\"/></div></a></td></tr><tr><td><a href=\"/url?q=https://www.dailysabah.com/sports/football/is-lionel-messis-goat-status-officially-sealed&amp;sa=U&amp;ved=2ahUKEwj2jtOKrtKDAxXxUUEAHWx_AawQr4kDegQICRAC&amp;usg=AOvVaw3dLBRj7s6TIO5UnSzsqFVf\"><div class=\"AlD19d\"> <span class=\"qXLe6d x3G5ab\"> <span class=\"fYyStc\">Is Lionel Messi's G.O.A.T...</span> </span> <span class=\"qXLe6d F9iS2e\"> <span class=\"fYyStc\">www.dailysabah.com</span> </span> </div></a></td></tr></table></div></div> </div> </div></td><td align=\"center\" class=\"e3goi\"><div class=\"jjVJ4e\"> <div> <div class=\"lIMUZd\"><div><table class=\"RntSmf\"><tr><td><a href=\"/url?q=https://www.fcbarcelona.com/en/card/2214377/leo-messi&amp;sa=U&amp;ved=2ahUKEwj2jtOKrtKDAxXxUUEAHWx_AawQqoUBegQIABAB&amp;usg=AOvVaw2RmmjVq0y5_axP1oRrUjFV\"><div class=\"kCmkOe\"><img alt=\"\" class=\"DS1iW\" src=\"https://encrypted-tbn0.gstatic.com/images?q=tbn:ANd9GcRzcQkfanX9FFBVzyaEbbxCivxi7Uskx_Rv2UzzXYWt5uSXInMMe4zJo7FHkw&amp;s\"/></div></a></td></tr><tr><td><a href=\"/url?q=https://www.fcbarcelona.com/en/card/2214377/leo-messi&amp;sa=U&amp;ved=2ahUKEwj2jtOKrtKDAxXxUUEAHWx_AawQr4kDegQIABAC&amp;usg=AOvVaw3kqN31JJfLPwESt-90zkaN\"><div class=\"AlD19d\"> <span class=\"qXLe6d x3G5ab\"> <span class=\"fYyStc\">Leo Messi</span> </span> <span class=\"qXLe6d F9iS2e\"> <span class=\"fYyStc\">www.fcbarcelona.com</span> </span> </div></a></td></tr></table></div></div> </div> </div></td></tr><tr><td align=\"center\" class=\"e3goi\"><div class=\"jjVJ4e\"> <div> <div class=\"lIMUZd\"><div><table class=\"RntSmf\"><tr><td><a href=\"/url?q=https://en.wikipedia.org/wiki/Lionel_Messi&amp;sa=U&amp;ved=2ahUKEwj2jtOKrtKDAxXxUUEAHWx_AawQqoUBegQIAxAB&amp;usg=AOvVaw3rp-5wGjEWHQ3BxEpeoYCt\"><div class=\"kCmkOe\"><img alt=\"\" class=\"DS1iW\" src=\"https://encrypted-tbn0.gstatic.com/images?q=tbn:ANd9GcRsfvoWJqx_YYqOFLYZAHo9RKMdKV2iLyTdcEF3TD2yFgQQpcXgr8YbdqrZ3Q&amp;s\"/></div></a></td></tr><tr><td><a href=\"/url?q=https://en.wikipedia.org/wiki/Lionel_Messi&amp;sa=U&amp;ved=2ahUKEwj2jtOKrtKDAxXxUUEAHWx_AawQr4kDegQIAxAC&amp;usg=AOvVaw2aikUOM-UHQz0zyDDV-5By\"><div class=\"AlD19d\"> <span class=\"qXLe6d x3G5ab\"> <span class=\"fYyStc\">Lionel Messi - Wikipedia</span> </span> <span class=\"qXLe6d F9iS2e\"> <span class=\"fYyStc\">en.wikipedia.org</span> </span> </div></a></td></tr></table></div></div> </div> </div></td><td align=\"center\" class=\"e3goi\"><div class=\"jjVJ4e\"> <div> <div class=\"lIMUZd\"><div><table class=\"RntSmf\"><tr><td><a href=\"/url?q=https://www.aljazeera.com/sports/2023/10/31/after-record-ballon-dor-win-a-look-at-messis-legacy-in-awards&amp;sa=U&amp;ved=2ahUKEwj2jtOKrtKDAxXxUUEAHWx_AawQqoUBegQIBxAB&amp;usg=AOvVaw2EE1kgPVYnpGgudCTYJusm\"><div class=\"kCmkOe\"><img alt=\"\" class=\"DS1iW\" src=\"https://encrypted-tbn0.gstatic.com/images?q=tbn:ANd9GcQKvPRRlLogmdbEtctILi9RzH7Iset6qLvol7ZLN-VLxOxluxhP0FVJEdqrpg&amp;s\"/></div></a></td></tr><tr><td><a href=\"/url?q=https://www.aljazeera.com/sports/2023/10/31/after-record-ballon-dor-win-a-look-at-messis-legacy-in-awards&amp;sa=U&amp;ved=2ahUKEwj2jtOKrtKDAxXxUUEAHWx_AawQr4kDegQIBxAC&amp;usg=AOvVaw0e_rBP-jkZ-AA0hYWBt6EM\"><div class=\"AlD19d\"> <span class=\"qXLe6d x3G5ab\"> <span class=\"fYyStc\">What records and awards...</span> </span> <span class=\"qXLe6d F9iS2e\"> <span class=\"fYyStc\">www.aljazeera.com</span> </span> </div></a></td></tr></table></div></div> </div> </div></td><td align=\"center\" class=\"e3goi\"><div class=\"jjVJ4e\"> <div> <div class=\"lIMUZd\"><div><table class=\"RntSmf\"><tr><td><a href=\"/url?q=https://www.foxsports.com/soccer/lionel-messi-player&amp;sa=U&amp;ved=2ahUKEwj2jtOKrtKDAxXxUUEAHWx_AawQqoUBegQIARAB&amp;usg=AOvVaw2ELeDWtUddK2xeOl320Pq2\"><div class=\"kCmkOe\"><img alt=\"\" class=\"DS1iW\" src=\"https://encrypted-tbn0.gstatic.com/images?q=tbn:ANd9GcQdlOeh6V08x8qpbEu5MVvbX58vK6_64yBkxcqzfYeeN_wo6PnfF7oWEi3UFOk&amp;s\"/></div></a></td></tr><tr><td><a href=\"/url?q=https://www.foxsports.com/soccer/lionel-messi-player&amp;sa=U&amp;ved=2ahUKEwj2jtOKrtKDAxXxUUEAHWx_AawQr4kDegQIARAC&amp;usg=AOvVaw26Z38voNVi038bvx1lJbD2\"><div class=\"AlD19d\"> <span class=\"qXLe6d x3G5ab\"> <span class=\"fYyStc\">Lionel Messi - Soccer News,...</span> </span> <span class=\"qXLe6d F9iS2e\"> <span class=\"fYyStc\">www.foxsports.com</span> </span> </div></a></td></tr></table></div></div> </div> </div></td><td align=\"center\" class=\"e3goi\"><div class=\"jjVJ4e\"> <div> <div class=\"lIMUZd\"><div><table class=\"RntSmf\"><tr><td><a href=\"/url?q=https://www.independent.co.uk/sport/football/lionel-messi-ballon-dor-result-b2438886.html&amp;sa=U&amp;ved=2ahUKEwj2jtOKrtKDAxXxUUEAHWx_AawQqoUBegQIBBAB&amp;usg=AOvVaw2ZIh8K9xgE8fx-U-APUTKU\"><div class=\"kCmkOe\"><img alt=\"\" class=\"DS1iW\" src=\"https://encrypted-tbn0.gstatic.com/images?q=tbn:ANd9GcSxZvdwjP76HJxAR6FeSDMFp8p0Tf14MI1wxOYB_DrZdaGi63IYq9v0lTnxspQ&amp;s\"/></div></a></td></tr><tr><td><a href=\"/url?q=https://www.independent.co.uk/sport/football/lionel-messi-ballon-dor-result-b2438886.html&amp;sa=U&amp;ved=2ahUKEwj2jtOKrtKDAxXxUUEAHWx_AawQr4kDegQIBBAC&amp;usg=AOvVaw0-M1l6gD8v2zLtdz9NBCNc\"><div class=\"AlD19d\"> <span class=\"qXLe6d x3G5ab\"> <span class=\"fYyStc\">Lionel Messi, the complete...</span> </span> <span class=\"qXLe6d F9iS2e\"> <span class=\"fYyStc\">www.independent.co.uk</span> </span> </div></a></td></tr></table></div></div> </div> </div></td></tr><tr><td align=\"center\" class=\"e3goi\"><div class=\"jjVJ4e\"> <div> <div class=\"lIMUZd\"><div><table class=\"RntSmf\"><tr><td><a href=\"/url?q=https://www.sportico.com/personalities/athletes/2023/lionel-messi-career-earnings-billion-mls-1234730823/&amp;sa=U&amp;ved=2ahUKEwj2jtOKrtKDAxXxUUEAHWx_AawQqoUBegQIAhAB&amp;usg=AOvVaw0I5yCBTlP1ShARXSYAMNdJ\"><div class=\"kCmkOe\"><img alt=\"\" class=\"DS1iW\" src=\"https://encrypted-tbn0.gstatic.com/images?q=tbn:ANd9GcQlRpxhM-yfZhBpHlMf2-Y8lY-B8-brS4Zl4KBNK8jFNL4r1vG_LW_iKrkskmQ&amp;s\"/></div></a></td></tr><tr><td><a href=\"/url?q=https://www.sportico.com/personalities/athletes/2023/lionel-messi-career-earnings-billion-mls-1234730823/&amp;sa=U&amp;ved=2ahUKEwj2jtOKrtKDAxXxUUEAHWx_AawQr4kDegQIAhAC&amp;usg=AOvVaw3jX35Mp8BLbMiVCM6Lwc07\"><div class=\"AlD19d\"> <span class=\"qXLe6d x3G5ab\"> <span class=\"fYyStc\">Lionel Messi Career...</span> </span> <span class=\"qXLe6d F9iS2e\"> <span class=\"fYyStc\">www.sportico.com</span> </span> </div></a></td></tr></table></div></div> </div> </div></td><td align=\"center\" class=\"e3goi\"><div class=\"jjVJ4e\"> <div> <div class=\"lIMUZd\"><div><table class=\"RntSmf\"><tr><td><a href=\"/url?q=https://timesofindia.indiatimes.com/sports/football/web-stories/lionel-messi-named-times-athlete-of-the-year/photostory/105777866.cms&amp;sa=U&amp;ved=2ahUKEwj2jtOKrtKDAxXxUUEAHWx_AawQqoUBegQIBRAB&amp;usg=AOvVaw0ioMXFRov0Y7jZ7_t3hWaU\"><div class=\"kCmkOe\"><img alt=\"\" class=\"DS1iW\" src=\"https://encrypted-tbn0.gstatic.com/images?q=tbn:ANd9GcTpj0dGKFvXVGOpuC3kdzVO2YzIJAbDkpWdAm4_6IxShWwGMsAbA0dBGcvS1cg&amp;s\"/></div></a></td></tr><tr><td><a href=\"/url?q=https://timesofindia.indiatimes.com/sports/football/web-stories/lionel-messi-named-times-athlete-of-the-year/photostory/105777866.cms&amp;sa=U&amp;ved=2ahUKEwj2jtOKrtKDAxXxUUEAHWx_AawQr4kDegQIBRAC&amp;usg=AOvVaw1DWRDvOA7VQySqhtQuPTBH\"><div class=\"AlD19d\"> <span class=\"qXLe6d x3G5ab\"> <span class=\"fYyStc\">Lionel Messi named Time's...</span> </span> <span class=\"qXLe6d F9iS2e\"> <span class=\"fYyStc\">timesofindia.indiatimes.com...</span> </span> </div></a></td></tr></table></div></div> </div> </div></td><td align=\"center\" class=\"e3goi\"><div class=\"jjVJ4e\"> <div> <div class=\"lIMUZd\"><div><table class=\"RntSmf\"><tr><td><a href=\"/url?q=https://www.imdb.com/title/tt14581062/&amp;sa=U&amp;ved=2ahUKEwj2jtOKrtKDAxXxUUEAHWx_AawQqoUBegQICBAB&amp;usg=AOvVaw397AzJyD6T2YCpV6WKFA3F\"><div class=\"kCmkOe\"><img alt=\"\" class=\"DS1iW\" src=\"https://encrypted-tbn0.gstatic.com/images?q=tbn:ANd9GcTxwptWmZLnyhQ4sntinGk_IoDpq3L6z1PHc0JEZxDmpqWsW9mUd6H5G7PeC1M&amp;s\"/></div></a></td></tr><tr><td><a href=\"/url?q=https://www.imdb.com/title/tt14581062/&amp;sa=U&amp;ved=2ahUKEwj2jtOKrtKDAxXxUUEAHWx_AawQr4kDegQICBAC&amp;usg=AOvVaw2GicXbnYmmu1vEyPFuju2u\"><div class=\"AlD19d\"> <span class=\"qXLe6d x3G5ab\"> <span class=\"fYyStc\">Lionel Messi: The Greatest...</span> </span> <span class=\"qXLe6d F9iS2e\"> <span class=\"fYyStc\">www.imdb.com</span> </span> </div></a></td></tr></table></div></div> </div> </div></td></tr></table></div><table class=\"uZgmoc\"><tbody><td><a class=\"frGj1b\" href=\"#\">Mbele &gt;</a></td></tbody></table><br/><div class=\"TuS8Ad\" data-ved=\"0ahUKEwj2jtOKrtKDAxXxUUEAHWx_AawQpyoITg\"><style>.VYM29{font-weight:bold}</style><div align=\"center\" class=\"HddGcc\"><span class=\"VYM29\">Kasarani, Nairobi</span><span> - </span><span>Kutoka kwenye Anwani yako ya IP</span><span> - </span><a href=\"/url?q=https://support.google.com/websearch%3Fp%3Dws_settings_location%26hl%3Dsw-KE&amp;opi=89978449&amp;sa=U&amp;ved=0ahUKEwj2jtOKrtKDAxXxUUEAHWx_AawQty4ITw&amp;usg=AOvVaw2tlNnZ1O4EQPuQvReMzc90\">Pata maelezo zaidi</a></div><div align=\"center\"><a class=\"rEM8G\" href=\"/url?q=https://accounts.google.com/ServiceLogin%3Fcontinue%3Dhttps://www.google.com/search%253Fq%253Dlionel%252Bmessi%2526sca_esv%253D596866593%2526tbm%253Disch%2526sxsrf%253DACQVn0_doOK6ezSM5e25-XYmaXfLoTPD_g:1704802321448%2526source%253Dlnms%2526sa%253DX%2526ved%253D2ahUKEwiW06DGo9CDAxXBdqQEHcLiCEIQ_AUoAnoECAIQBA%2526biw%253D1280%2526bih%253D598%2526dpr%253D1.5%26hl%3Dsw&amp;opi=89978449&amp;sa=U&amp;ved=0ahUKEwj2jtOKrtKDAxXxUUEAHWx_AawQxs8CCFA&amp;usg=AOvVaw3WCFk00sBgPsKKtceXPXxd\">Ingia</a></div><div><table class=\"bookcf\"><tbody class=\"InWNIe\"><tr><td><a class=\"rEM8G\" href=\"https://www.google.com/preferences?hl=sw&amp;sa=X&amp;ved=0ahUKEwj2jtOKrtKDAxXxUUEAHWx_AawQv5YECFE\">Mipangilio</a></td><td><a class=\"rEM8G\" href=\"https://www.google.com/intl/sw_ke/policies/privacy/\">Faragha</a></td><td><a class=\"rEM8G\" href=\"https://www.google.com/intl/sw_ke/policies/terms/\">Masharti</a></td></tr></tbody></table></div></div><div> </div></body></html>"
      ]
     },
     "execution_count": 25,
     "metadata": {},
     "output_type": "execute_result"
    }
   ],
   "source": [
    "soup"
   ]
  },
  {
   "cell_type": "code",
   "execution_count": 26,
   "id": "72f8024b-9a11-48f2-b0bc-2500256b1cf5",
   "metadata": {},
   "outputs": [],
   "source": [
    "image_tags=soup.find_all(\"img\")"
   ]
  },
  {
   "cell_type": "code",
   "execution_count": 9,
   "id": "e6c0c815-3b0a-440f-983d-26dbe512e592",
   "metadata": {},
   "outputs": [
    {
     "data": {
      "text/plain": [
       "[<img alt=\"Google\" class=\"kgJEQe\" src=\"/images/branding/searchlogo/1x/googlelogo_desk_heirloom_color_150x55dp.gif\"/>,\n",
       " <img alt=\"\" class=\"DS1iW\" src=\"https://encrypted-tbn0.gstatic.com/images?q=tbn:ANd9GcSsksZmP_XTINDzPrOHKHR-fXCXDCXJctG2CPYNFjaVIxpN4gGIcQCd1n6N7-Y&amp;s\"/>,\n",
       " <img alt=\"\" class=\"DS1iW\" src=\"https://encrypted-tbn0.gstatic.com/images?q=tbn:ANd9GcQY_R5NSNoZkSlMo3hf86COGJ4fCv0s6Nx4k8uCGkWc6YGOn_m4-rIOQ3GhOhg&amp;s\"/>,\n",
       " <img alt=\"\" class=\"DS1iW\" src=\"https://encrypted-tbn0.gstatic.com/images?q=tbn:ANd9GcS6mPr1g683xgMlTnJfswzPyIjixDUJCLKR_GUOYd43dGj0LB8Uum64r_cOjl4&amp;s\"/>,\n",
       " <img alt=\"\" class=\"DS1iW\" src=\"https://encrypted-tbn0.gstatic.com/images?q=tbn:ANd9GcSWquD3V9PShopfxR5z4mBgB3IZnXGWVDSQM_48N0nbiI_0DYg43GVIktea3Uc&amp;s\"/>,\n",
       " <img alt=\"\" class=\"DS1iW\" src=\"https://encrypted-tbn0.gstatic.com/images?q=tbn:ANd9GcS6PtbO3oSFgC1yh6BPlre0Sr5h3aca6UrEmg7ibGUrD1g40Xm5cZBGYl7G3PU&amp;s\"/>,\n",
       " <img alt=\"\" class=\"DS1iW\" src=\"https://encrypted-tbn0.gstatic.com/images?q=tbn:ANd9GcTgnW646FpWjyFbl3SudhoGlByKdJcMD1YO8q-MEWVBopirZEJ58wCqgqSkHw&amp;s\"/>,\n",
       " <img alt=\"\" class=\"DS1iW\" src=\"https://encrypted-tbn0.gstatic.com/images?q=tbn:ANd9GcQHi8j091OefKGb_i3muWu-Zi6DS5PW6hN7yKsp8Ug_ro7vv9h7ZwozkjdrAA&amp;s\"/>,\n",
       " <img alt=\"\" class=\"DS1iW\" src=\"https://encrypted-tbn0.gstatic.com/images?q=tbn:ANd9GcQosXj2elVFnxW60i0y2hp3ewC9ttZ6z78KaQ1MIqaaLOD_iocx9TT8qVsKW-k&amp;s\"/>,\n",
       " <img alt=\"\" class=\"DS1iW\" src=\"https://encrypted-tbn0.gstatic.com/images?q=tbn:ANd9GcSC7st5ShUDWADPVkP7Pr0Py1KtnzUAtUAXgpqtCzbirxLvz3BhjH-CNqBm3PE&amp;s\"/>,\n",
       " <img alt=\"\" class=\"DS1iW\" src=\"https://encrypted-tbn0.gstatic.com/images?q=tbn:ANd9GcT0zOoinJSPY5-LpriVUlZxKHbhY1ZDw59SwcLQKjECd0_jDYz_2fHWTksS9PE&amp;s\"/>,\n",
       " <img alt=\"\" class=\"DS1iW\" src=\"https://encrypted-tbn0.gstatic.com/images?q=tbn:ANd9GcSEFUwW42RsRIsLMS4VR65_40G3zHDrLmQaTpEC6Kenk4zInbKwLWdG6HYiK3w&amp;s\"/>,\n",
       " <img alt=\"\" class=\"DS1iW\" src=\"https://encrypted-tbn0.gstatic.com/images?q=tbn:ANd9GcQnWySdECZr-A986NJKofMVl9KIU42AGUnOChqfyrdwmoxXzAgTH6LOsWKKiw&amp;s\"/>,\n",
       " <img alt=\"\" class=\"DS1iW\" src=\"https://encrypted-tbn0.gstatic.com/images?q=tbn:ANd9GcSMYNRVFWT78z1HfCjjsXyWHH40VRIwjNiYar3jQYHUhnaCQJZ6GSxCQ6cYto8&amp;s\"/>,\n",
       " <img alt=\"\" class=\"DS1iW\" src=\"https://encrypted-tbn0.gstatic.com/images?q=tbn:ANd9GcRS2k1Ol-S3pHdLxkwLZiQPNL8ZvkLoxEDSLg8JSm8VZPYtC60o5gtbddDq6UU&amp;s\"/>,\n",
       " <img alt=\"\" class=\"DS1iW\" src=\"https://encrypted-tbn0.gstatic.com/images?q=tbn:ANd9GcSwq0dm9LsIJFXhVpVi2-xb2VQSTdG7Tb92l9AIyKFFgrYonh1FnTbuvi-3Cw&amp;s\"/>,\n",
       " <img alt=\"\" class=\"DS1iW\" src=\"https://encrypted-tbn0.gstatic.com/images?q=tbn:ANd9GcQxKSK6v2WSDPdMnhgQpJJmi9vg4Ch_ivZ-sUC8-TTYwNrUD0BukYPu7uC3x1E&amp;s\"/>,\n",
       " <img alt=\"\" class=\"DS1iW\" src=\"https://encrypted-tbn0.gstatic.com/images?q=tbn:ANd9GcSJsfVxJhJx_vgDn76MF6C4xprKMi2NSH81S13Zy_Ul-7agxeJxxrNmZ0iRVw&amp;s\"/>,\n",
       " <img alt=\"\" class=\"DS1iW\" src=\"https://encrypted-tbn0.gstatic.com/images?q=tbn:ANd9GcRxf-Jbkdb6IZIh7oNtWyJhYtw3Kg80gamyGyRHZS8klkCrAzThS_D2ymM47A&amp;s\"/>,\n",
       " <img alt=\"\" class=\"DS1iW\" src=\"https://encrypted-tbn0.gstatic.com/images?q=tbn:ANd9GcRRot6rZklpQ2_AXskt60OIU4SApqDDCkt7U1NRKSr3yZMFITndDG7Ccut5hw&amp;s\"/>,\n",
       " <img alt=\"\" class=\"DS1iW\" src=\"https://encrypted-tbn0.gstatic.com/images?q=tbn:ANd9GcTTCwkrB0WHyxlEZoU7ose0__nvdx44368eqpGm-Hq9zk-rN9LTTplKFiJ-2cQ&amp;s\"/>]"
      ]
     },
     "execution_count": 9,
     "metadata": {},
     "output_type": "execute_result"
    }
   ],
   "source": [
    "image_tags"
   ]
  },
  {
   "cell_type": "code",
   "execution_count": 27,
   "id": "fa28210e-7a43-423c-a45f-ef0770a1a495",
   "metadata": {},
   "outputs": [],
   "source": [
    "del image_tags[0]\n"
   ]
  },
  {
   "cell_type": "code",
   "execution_count": 28,
   "id": "bd79d68c-dbf5-4baf-b118-4872b0f84814",
   "metadata": {},
   "outputs": [
    {
     "data": {
      "text/plain": [
       "[<img alt=\"\" class=\"DS1iW\" src=\"https://encrypted-tbn0.gstatic.com/images?q=tbn:ANd9GcSpgvrebhAaXe_EfR-TQC5ggCmDUU8xKBUbuOWBepEhn64Vw42kDcNgK7JAbA&amp;s\"/>,\n",
       " <img alt=\"\" class=\"DS1iW\" src=\"https://encrypted-tbn0.gstatic.com/images?q=tbn:ANd9GcQD72SPCdAxR_GC97hqgsRsnOYyQSNYJ8e0d5Tw_Ge6IeYSIRZ6R8Jl1VS4dw&amp;s\"/>,\n",
       " <img alt=\"\" class=\"DS1iW\" src=\"https://encrypted-tbn0.gstatic.com/images?q=tbn:ANd9GcS7OF-X1AL4kGUkasPxwk_CmwIHFgtBkoku57AK4-IbryuRMYtCN37zq-NaE5U&amp;s\"/>,\n",
       " <img alt=\"\" class=\"DS1iW\" src=\"https://encrypted-tbn0.gstatic.com/images?q=tbn:ANd9GcSgHqE_lSoBWp1M34Vp8teXdLVRMQFp3Rv7BBoGFBOfLxiO4JS_IHGlFd51dRY&amp;s\"/>,\n",
       " <img alt=\"\" class=\"DS1iW\" src=\"https://encrypted-tbn0.gstatic.com/images?q=tbn:ANd9GcR1bG0QNZX3dxwwOlEbbXk5mZe-BPKHzVx-4A1UE23Bl4V97Piss85-6JHdlSo&amp;s\"/>,\n",
       " <img alt=\"\" class=\"DS1iW\" src=\"https://encrypted-tbn0.gstatic.com/images?q=tbn:ANd9GcQMPIuC9By6-8yzoPdGKQmbgB4IAsRJsSLw7PpWtyydP56ffNqEQA1Ay7Tt9g&amp;s\"/>,\n",
       " <img alt=\"\" class=\"DS1iW\" src=\"https://encrypted-tbn0.gstatic.com/images?q=tbn:ANd9GcQLltpaXoQs0dGD3TgV-ObuN_5DHpeoC0j39CFGl6jzT22JYo8keFna5IzEeA&amp;s\"/>,\n",
       " <img alt=\"\" class=\"DS1iW\" src=\"https://encrypted-tbn0.gstatic.com/images?q=tbn:ANd9GcRmnddW_uhvLfSpHWp655cF3qrq08sVHj9fcDooG2zRux5xp3DnVlncr2KR6YA&amp;s\"/>,\n",
       " <img alt=\"\" class=\"DS1iW\" src=\"https://encrypted-tbn0.gstatic.com/images?q=tbn:ANd9GcTbIa_CMVf1bz5-Pmh48djCgfrMhp-KW6-B5T-pAvLQ6f2PzLsYWxfYlBCbBWY&amp;s\"/>,\n",
       " <img alt=\"\" class=\"DS1iW\" src=\"https://encrypted-tbn0.gstatic.com/images?q=tbn:ANd9GcTTA2k_W7yG-2SfjFdJwGtM2hIWc_CPTuW7wfom5n1z4ZE4ymH97sNu1EPQkQ&amp;s\"/>,\n",
       " <img alt=\"\" class=\"DS1iW\" src=\"https://encrypted-tbn0.gstatic.com/images?q=tbn:ANd9GcT1uUJFqXuftITESV7zUoRdcqVMsuvj_16_NByVQykVeEtuhEPzBV89mqRYQA&amp;s\"/>,\n",
       " <img alt=\"\" class=\"DS1iW\" src=\"https://encrypted-tbn0.gstatic.com/images?q=tbn:ANd9GcRzcQkfanX9FFBVzyaEbbxCivxi7Uskx_Rv2UzzXYWt5uSXInMMe4zJo7FHkw&amp;s\"/>,\n",
       " <img alt=\"\" class=\"DS1iW\" src=\"https://encrypted-tbn0.gstatic.com/images?q=tbn:ANd9GcRsfvoWJqx_YYqOFLYZAHo9RKMdKV2iLyTdcEF3TD2yFgQQpcXgr8YbdqrZ3Q&amp;s\"/>,\n",
       " <img alt=\"\" class=\"DS1iW\" src=\"https://encrypted-tbn0.gstatic.com/images?q=tbn:ANd9GcQKvPRRlLogmdbEtctILi9RzH7Iset6qLvol7ZLN-VLxOxluxhP0FVJEdqrpg&amp;s\"/>,\n",
       " <img alt=\"\" class=\"DS1iW\" src=\"https://encrypted-tbn0.gstatic.com/images?q=tbn:ANd9GcQdlOeh6V08x8qpbEu5MVvbX58vK6_64yBkxcqzfYeeN_wo6PnfF7oWEi3UFOk&amp;s\"/>,\n",
       " <img alt=\"\" class=\"DS1iW\" src=\"https://encrypted-tbn0.gstatic.com/images?q=tbn:ANd9GcSxZvdwjP76HJxAR6FeSDMFp8p0Tf14MI1wxOYB_DrZdaGi63IYq9v0lTnxspQ&amp;s\"/>,\n",
       " <img alt=\"\" class=\"DS1iW\" src=\"https://encrypted-tbn0.gstatic.com/images?q=tbn:ANd9GcQlRpxhM-yfZhBpHlMf2-Y8lY-B8-brS4Zl4KBNK8jFNL4r1vG_LW_iKrkskmQ&amp;s\"/>,\n",
       " <img alt=\"\" class=\"DS1iW\" src=\"https://encrypted-tbn0.gstatic.com/images?q=tbn:ANd9GcTpj0dGKFvXVGOpuC3kdzVO2YzIJAbDkpWdAm4_6IxShWwGMsAbA0dBGcvS1cg&amp;s\"/>,\n",
       " <img alt=\"\" class=\"DS1iW\" src=\"https://encrypted-tbn0.gstatic.com/images?q=tbn:ANd9GcTxwptWmZLnyhQ4sntinGk_IoDpq3L6z1PHc0JEZxDmpqWsW9mUd6H5G7PeC1M&amp;s\"/>]"
      ]
     },
     "execution_count": 28,
     "metadata": {},
     "output_type": "execute_result"
    }
   ],
   "source": [
    "image_tags"
   ]
  },
  {
   "cell_type": "code",
   "execution_count": 29,
   "id": "73dba585-5a4a-430d-b09e-ab8c68615235",
   "metadata": {},
   "outputs": [
    {
     "data": {
      "text/plain": [
       "19"
      ]
     },
     "execution_count": 29,
     "metadata": {},
     "output_type": "execute_result"
    }
   ],
   "source": [
    "len(image_tags)"
   ]
  },
  {
   "cell_type": "code",
   "execution_count": 30,
   "id": "d15137f2-bf98-4217-8ecc-e0b065d1f543",
   "metadata": {},
   "outputs": [
    {
     "data": {
      "text/plain": [
       "b'\\xff\\xd8\\xff\\xe0\\x00\\x10JFIF\\x00\\x01\\x01\\x00\\x00\\x01\\x00\\x01\\x00\\x00\\xff\\xdb\\x00\\x84\\x00\\t\\x06\\x07\\x08\\x07\\x06\\t\\x08\\x07\\x08\\n\\n\\t\\x0b\\r\\x16\\x0f\\r\\x0c\\x0c\\r\\x1b\\x14\\x15\\x10\\x16 \\x1d\"\" \\x1d\\x1f\\x1f$(4,$&1\\'\\x1f\\x1f-=-157:::#+?D?8C49:7\\x01\\n\\n\\n\\r\\x0c\\r\\x1a\\x0f\\x0f\\x1a7%\\x1f%77777777777777777777777777777777777777777777777777\\xff\\xc0\\x00\\x11\\x08\\x00\\x8c\\x00j\\x03\\x01\"\\x00\\x02\\x11\\x01\\x03\\x11\\x01\\xff\\xc4\\x00\\x1c\\x00\\x00\\x01\\x05\\x01\\x01\\x01\\x00\\x00\\x00\\x00\\x00\\x00\\x00\\x00\\x00\\x00\\x04\\x02\\x03\\x05\\x06\\x07\\x00\\x01\\x08\\xff\\xc4\\x00<\\x10\\x00\\x02\\x01\\x03\\x02\\x04\\x04\\x02\\x08\\x04\\x04\\x07\\x00\\x00\\x00\\x00\\x01\\x02\\x03\\x00\\x04\\x11\\x05!\\x06\\x121A\\x13\"Qa\\x14\\xa1\\x072BRq\\x81\\x91\\xb1#\\x92\\xe1\\xf04b\\xc1\\xd1\\x153Dcr\\xb2\\xc2\\xff\\xc4\\x00\\x19\\x01\\x00\\x03\\x01\\x01\\x01\\x00\\x00\\x00\\x00\\x00\\x00\\x00\\x00\\x00\\x00\\x00\\x00\\x01\\x02\\x04\\x03\\x05\\xff\\xc4\\x00 \\x11\\x01\\x01\\x00\\x02\\x02\\x02\\x03\\x01\\x01\\x00\\x00\\x00\\x00\\x00\\x00\\x00\\x00\\x01\\x02\\x11\\x03!\"1\\x122AQ\\x04\\xff\\xda\\x00\\x0c\\x03\\x01\\x00\\x02\\x11\\x03\\x11\\x00?\\x00\\xc7#=(\\xa4\\xe9B\\xc7EG\\xd2\\xad5\\xcfB\\xcc(\\xa6\\xa1\\xa5\\x1b\\xd1J\\x07\\xef]K\\x8d<G\\xc6B\\x8e\\xecz\\n9-m\\x15\\xc83\\xf3\\x11\\x8d\\x87\\x98\\x1c\\xf7\\x18\\xf4\\xa9\\xb7N\\x92m\\x1f\\xda\\xb8\\xafM\\xc5Xa\\xb1\\xd3\\xca\\xf9\\x1b\\x98\\x8c\\x13\\xf3\\xdb\\xf6\\x1f\\x9d\\x06ti\\xc9\\xfe\\x12l\\x01=\\x7f\\xbfz_#\\xf8\\xa2h\\x9b^\\xb8\\xa4Mo,G\\xce\\x84R\\xadz\\xfb\\xd5J\\x8b\\x1e\\xcf\\xd6\\x87j&z\\x18\\xd3(I\\xa6\\xc8\\xa7+\\xcaF!h\\xa8\\xbaP\\xabD\\xc7\\xd2\\x99R\\xda\\x85\\xb8$r\\xaa\\xe3\\x99\\x8e\\x05\\x14{P\\x12\\x16k\\xb0;\\x82\\x00\\xa2\\xd1\\x8f\\xb4\\xa6\\x99\\xa1\\xdd\\xde\\xb0\\x810\\x91\\xb1\\x1e$\\x98\\xcf\\xe8kM\\xe1\\xae\\x11\\xd2\\xedbR\\xd6\\xc2g\\xee\\xf2\\xeeMG\\xf0\\xd6\\x9a\\xc9a\\t\\x1bdg\\x15y\\xd2\\x17\\x95p7\"\\xb1\\xe7\\x9d\\xb7Q\\xe8\\xf1q\\xe3&\\xe9Q\\xf0\\xee\\x96\\xf1\\xf2\\xb5\\x94 c\\xb2\\xd0\\xb7|\\x17\\xa3\\xcc\\x9eH\\xe4\\x81\\x87\\xd5h\\xdb\\xa5Z \\x8c\\x01\\x96\\xa7\\x960\\xcbG\\x92\\xac\\xc7\\xf8\\xc7\\xb8\\x93\\x84\\xe6\\xd2\\xe0y\\xc6.\\xecFy\\xc8\\\\I\\x18\\xf5>\\xa3\\xde\\xaa\\x16z8y\\x07\\x84\\xe0\\xb26W?l~\\x1e\\xdb\\xd7\\xd0\\x17\\xd6\\xe0\\x03\\xcc\\xa0\\xa9\\xea\\xbe\\xb5\\x90\\xeb\\xf6\\xd6\\xfa\\x15\\xfc\\xa9\\x06\\x143\\x12\\x88\\x01\\xce;o\\xd2\\xbaq\\xe7oU\\x9f\\x97\\x8eN\\xe2\\x91\\xa8Bm\\xe7h\\x89\\xc9]\\x89\\xf7\\xa0\\x9a\\x8f\\xd4\\xe4in\\x9d\\xd9B\\x93\\xd8P\\r]\\xd9I\\xae\\xae\\xaf3@>\\x94TT*\\xd1\\x11\\x1aeN\\x9a\\xf7K\\xb7\\x8emr\\xd9d\\x19V9+\\xeb\\x81IcR\\x1ae\\x93C\\xa8X\\xdds\\x86\\x0e\\xa4\\x95\\xc1\\x1c\\xbb\\x1f\\xd6\\xa7?J\\xe3\\x9b\\xc9\\xa1[\\xde\\xb5\\xb2$p\\xc1\\xce\\xfd\\x86p?Z\\x9a\\xd2\\xb5-N\\xd1\\xcc\\xb7\\xbaC|)\\xdc\\xcf\\x1b\\x03\\xca=H\\xa8g\\xd2\\xae\\xaf`_\\x83nW\\xc1n\\xb8\\'\\xf0\\xa9m3I\\xbc\\xb2\\xb3\\xba\\x96]V\\xf0\\xc9\\')\\x89_8\\x8b\\x19\\xc8\\xdf\\xebg>\\xdd\\x05f\\x92{z\\x1e^\\x96\\xeb[\\xd8n!W\\x84\\x86R3\\x90s\\xb5\\r\\x7f\\xc4\\x9af\\x9b\\xca\\x97\\x12I\\xcc{\"\\x16\\xc5D\\xf0K\\x08\\xec\\xaf c\\xceU\\xce=\\xbf*\\x1a\\xe6\\rv;\\xc0\\xba\\\\\\xf6\\x85|P\\xae%Ly6\\xcbz\\x93\\xd7js\\xb5e5\\x16\\x1bMZ\\xcbT\\x8c\\xfc4\\x8a\\xc4uRG0\\x1e\\xb5\\x96})\\x0f\\x87\\xd4\\xed\\x8b\\xaeQ\\xf7F\\xf4=\\x08\\xfd\\xabB\\xb3[\\x89\\xa6\\r=\\xb2C<d\\x82\\xca<\\xae:d{\\x1fJ\\xa1\\xfd/a\\x92\\xd5OU\\xe6\\xf9\\x95\\xfe\\xb4c\\xf6s\\xe4\\x9e,\\xefR\\x94\\xcfp\\xd2\\x12Om\\xe8\\x06\\xa2\\xa7\\xd8\\x0cP\\xcdZX!5\\xe5zk\\xca\\x01\\xd4\\xa2#\\xa1\\xd6\\x9f\\x8f\\xb50u\\xaa\\xdd\\xa6@\\x1b\\x83\\xed.\\x89\\xf3\\xc3z\\xd1\\xa8\\xff\\x00!\\xc9?3U\\x16\\xe9V.\\x17\\x9e\\'\\xb0\\x9e\\xcd\\xe6>)\\xb8WX\\x8fB\\xa0nG\\xbez\\xfeU\\x19\\xfa_\\x0f\\xd9\\xa2hW\\x83\\x9dbc\\xd4\\x00*cZ\\xbfX,$@G\\x95z\\x8fZ\\xadX\\xaf$\\xf0\\xb8\\xdc\\x06\\xdf\\x15)\\xac\\xcb\\xa7&\\x16\\xe6\\xe1c\\x8f\\x97\\'\\x9c\\x8co\\xdb\\xde\\xb2N\\xde\\xa4\\xb3]\\x86\\xe0\\xfdR\\xc9,/^K\\x95Y\\x0c\\x9dX\\x80:\\xe3\\xbf\\xbd^`\\xf0\\xae\\x15X\\xa2\\xf3\\xa0\\xc1\\xda\\xa9\\x9a\\x0c\\x9c\\'\\'+%\\xe5\\xa3\\xcf\\'\\x90\\x99\\x18\\x0ef\\xdb\\xd6\\xaeq\\xc6\"\\n\\xd1\\x00\\x02\\x8cc\\xda\\xae\\x8b\\xeb\\xb2\\xae%DB\\x0f\\\\m\\xb5Q/\\xec\\xd3S\\xd4//&\\x8a\\xda\\xe2\\x0b8\\xd71N\\xa5\\x81\\x1eb\\xd9\\x00\\xfd\\xde\\x9e\\xf8\\xab]\\xcc\\x85\\x84\\x8e[\\x1c\\xbd*\\x95\\xc6\\xfa\\x84:\\x1f\\t]G\\x19\\x0b{\\xaa\\x81\\x12\\xf9w)\\x8c9\\xfeR\\x7fQK\\x1b\\xbc\\x9c\\xf3\\x92ck\\x1f|\\xf81\\xe79\\xe5\\x19\\xcd\\x0e\\xd4\\\\\\xff\\x00\\xf2\\xd6\\x84j\\xd8\\xf3!&\\xba\\xb8\\xd7R\\x07\\x16\\x9e\\x8e\\x98Zz.\\xb4\\xc0\\x8cdQ\\x1aE\\xc0\\xb6\\xd4\\xe1\\x91\\x88\\x0b\\xba\\x92}\\xe9\\x8f\\xb3Oi:sj\\xba\\xb5\\x9e\\x9e\\x87\\x97\\xe2fX\\xcb\\xfd\\xc5\\xcf\\x99\\xbf!\\x93\\xf9R\\xb3p\\xb1\\xba\\xbbi\\x1a>\\xa2\\x91]Df^h\\x89\\xdf\\x14M\\xf6\\x94\\xd7\\xda\\xaa\\xdc\\xdbF\\xa2U<\\xea[8\\x03\\xd3\\xd8U\\x1e\\xd6[\\xfd<\"N\\x0bD\\xc0\\x18\\xe6\\x1b\\x83\\xfdj\\xd3\\xa4\\xf1\\x13\\xc2\\x01\\x90\\x13\\x81\\x80q\\x9a\\xcb\\xf1\\xb2\\xf4\\xf4q\\xe4\\x8bl:=\\xdd\\xda\\x9f\\x1e\\xda\\xc2h\\xd8n\\xad\\x10\\xcf\\xfa\\xe6\\xa4\\xf4\\xcbe\\xd3\\xa2X\\xd6w\\x16\\xe3f\\x89\\xceB\\x1fbw\\x03\\xdb\\xa7\\xa5D\\xd8qu\\x88\\nZe\\x19\\xea\\xbe\\x94\\xed\\xef\\x13\\xd99\\n\\x14\\xb0n\\xa5GZ2\\x99:\\\\\\xf7\\xd5\\xa9+\\xd9\\xe2Xdp@^Ry\\xbd\\xbdk\\x02\\xe2\\xae%\\xba\\xe2[\\xc8%\\xb9U\\x8e;x\\xbc(cN\\x80g$\\x9fs\\xb7\\xe9Z\\x07\\x1e\\xea\\xb7\\xc9\\xc3-s\\x0c~\\x0c\\x17\\x13\\x8bo?\\xd6 \\xa3\\xb1\\xc7\\xf2\\xfc\\xeb\"\\x06\\xbaqa\\xae\\xd9?\\xd1\\xc9\\xbf\\x182]\\xe2Z\\x11\\xfa\\xd1m\\xfe\\x1cdP\\x8f\\xd6\\xbb\\xb3\\x12k\\xab\\xca\\xea@\\xe2\\xd3\\xf1\\xd0|\\xe4}\\\\\\xd7\\x17\\x90\\xf7 {S\\t>uU\\xf30\\x1f\\x8dLp\\x1b\\xf8\\xdc[m\\x1cc,\\xf0\\xdc$C\\xd5\\xcc.\\x07\\xce\\xaa\\x8a\\xb9\\xdc\\xd4\\xef\\x06\\xca\\xd6\\xfcM\\xa7K\\x1e\\xce\\xb3l}\\xf0qAkM\\x17I\\xb3Y\\xf4\\xe4\\x8d\\xd7 (\\x184\\xc4\\xda2$\\x9c\\xd1\\x93\\x19=\\x87O\\xe9W\\xbb\\xab\\x08#\\x8cj6q\\xe2\\xde\\xe4\\xe5\\xd4\\x11\\xfc9\\x0fQ\\xf9\\x9d\\xc5G^\\xc4\\xa9\\xca\\xcaA\\x1f\\xa1\\x1f\\x88\\xae\\x16Y\\xed\\xbb\\x192\\x9b\\x88k\\x0e\\x1c\\xba\\x94\\xff\\x00\\x11\\x94&z\\xafSV}+\\x87W\\xe2\\x16\\x18\\xd5Zs\\xb9,3\\xe1\\xaf\\xde?\\xe8;\\xfc\\xc3\\xba\"\\xcd\\xaaL-mI\\x89c\\\\\\xcb.7\\x03\\xd8z\\x9a\\xb7h\\xf1%\\xb4oo\\x1ca7\\xc9l\\xe5\\x9b\\xff\\x00#\\xdc\\xd3\\x98\\xdc\\x91\\xc9\\x9c\\xc3\\xaf\\xd6C\\xf4\\xe5s\\x0c1\\xe9\\x9a%\\xb69!G\\x9e@z\\xe4\\xf9P\\xfex\\x93\\xe5X\\xf9\\x88\\xa8\\xe6\\xc09\\xeeM\\\\8\\xf3R:\\xcf\\x13\\xea7A\\xb9\\xa33\\x98\\xd3\\xd9\\x17\\xca?l\\xfeu^\\x92\\x12a<\\xa3q\\xbdv\\xb1\\x94\\x1a3\\x85!\\x927S\\xd8\\xe7o\\xc3\\x06\\x90\\xd11>\\\\c\\xdc\\xd3\\xa0\\x16\\x1b\\xf4\\xaf3\\xbd `\\xc1 \\xfb$\\xfe\\x1b\\xd29\\x1b\\xee\\x9f\\xd2\\x8e\\xe6#\\xa5+/\\xe8h\\x01\\x96\\x15U,\\xc3a\\\\\\xe8\\x99\\x1b\\x1cz\\x81EL\\xa4B\\xc0\\xfaP\\xd0y\\x94\\x123\\xb5\\x00\\xf3[#F\\x1a\\x16S\\x8e\\xd4W\\x0b\\xa1~&\\xd2c\\x03\\xfe\\xba\\x0c\\x9c\\x7f\\xdcZ\\x0f\\x94\\xe0\\xe0\\x01\\x9a\\x98\\xe0\\x12\\x8b\\xc6Z9\\x94eE\\xe4 \\xff\\x008\\xa6\\x1f@\\xe8\\xbf\\x13d<7\\xb7\\x97\\xc1E\\x040\\xfbD\\xf5\\xfd\\x06\\x07\\xebLq\\x06\\x97\\x15\\xc9K\\xc4F\\x05z\\xf2\\x03\\xb8\\xf5\\xdb\\xfb\\xe9V\\xd8\\x13\\xc6\\x8f\\xc89\\xa3=\\x1b4\\xccp\\x8c\\x94\\x08\\x0bg\\xb0\\xa7\\x94\\x99t|y\\xdc.\\xe2\\x03\\x83n\\xec\\xedfxdq\\x1c\\xb7L\\xab\\x18#\\xeb\\x11\\xccq\\x9a/^\\xbb}.\\xdbX\\xd5\"\\xe6)mk)\\x0b\\xf7\\x88R\\xc4\\xfe \\xe0~\\xbe\\xb4d\\xda$\\x06\\xf95\\x07P&M\\xd1q\\xe5V\\xc1\\x1c\\xde\\xe7\\x06\\xab\\xbfK\\x17?\\x01\\xc0w\\xf1\\xa63*$d\\x13\\xb9\\x0e\\xea\\xa7\\xe4I\\xfc\\xaap\\x9aW&S+\\xb8\\xf9\\xed\\\\\\xe7\\x98\\x9c\\xe7\\xads\\xce\\x06\\xc8\\xa7\\x18\\xef^\\x1d\\x97\\x02\\x99<\\xa7\\xfd\\xa9\\xa1\\xddH\\xd8\\x01\\xd5\\x88=\\xa8ub\\xf2\\x96\\xf59\\xa7\\xaeH\\x8a\\xdc(\\xfa\\xcf\\xd7~\\xd4\\x9b\\x18L\\x8c[\\x1bP\\x0f\\xc3\\x1eNM\\x19\\xe0\\x8fC\\xfaR-\\xd7\\xf8\\x81O\\xe7E\\x9b\\x98A\\xc7\\x886\\xf7\\xa7\\x02*\\xe9\\xb3\\xcf\\x9fLP\\xd6\\xa7\\xc8Tu\\x06\\x97r\\xc4\\x93\\x8an\\xc3\\xfcC)\\xfbC5 J\\x83\\xe8jK\\x87\\x1a\\xce\\xd3^\\xd2/%\\xb9\\xc4\\x11\\xdd\\xc0\\xf7E\\x90\\xaf\\xc3\\x81(\\xea{\\x8c\\x0c\\xe4z\\xd0\\xacU\\x06\\xd4\\xbe\\x1f\\xb2\\x1a\\xb7\\x10\\xda\\xda\\xf8E\\x84\\xd2\\xacn\\x17\\xa9Rp~Y4\\xc3\\xe9\\x9b9%\\x86\\xf2;D\\x90\\x98db@\\x07\\xb6\\t\\xa9\\xcb\\x08\\xf9 \\xe7=[}\\xea\\xad\\xa4\\xf2Y\\xf2\\xaa\\xa6?\\xe1\\xc8\\xb6\\xe59\\x8bm\\x8d\\x98\\x12I\\xc7/)\\xdc\\x93\\xb9\\xdc\\x91V\\xd5F\\xe5U\\x07\\n\\x14Q\\x91Cn\\xde$\\xe1\\x07\\xd5Q\\xcc\\xd5\\x96}9^\\x95\\xd0\\xeda\\x07{\\xab\\xc5\\xc8\\xff\\x00\"\\xab\\x1f\\xdf\\x96\\xb5ITC\\x0b\\xb7r7\\xac3\\xe9\\xba\\xef\\xc4\\xd5\\xf4\\xbbL\\xed\\x1c2J\\xcb\\x9e\\xec\\xc0\\x0f\\xfdM\\x10\\xd9\\x9b\\x93\\xda\\x9bX\\xd9\\x9c{\\xfa\\xd3\\xc7\\xad\"G\\x08\\x8c{\\x91\\x81@\\x07r\\xde$\\xc0.}\\x05M\\xda\\xc2\\xb0Z\\x81\\xdf\\x1b\\xd4>\\x9d\\x1f\\x8dv\\xa4\\xf4\\x156\\xef\\xe4s\\xdb8\\x14AB\\xf3r[\\\\K\\xf6\\x80 Tj\\xdaJ@&2I\\xeb\\x964}\\xc3b\\xdb\\xc3\\x18\\x04\\xb6rzP\\xff\\x00\\t\\x07\\xda\\xb8b{\\x9ej\\x01\\xa9_s\\x8aiII\\x15\\xfd\\rp\\xdf\\xad8\\xc0xM\\xf8R3\\xf7\\x12\\xaf@rj\\xc9\\xf4\\\\\\xa0q\\xbe\\x91\\x9e\\xf7#\\xf65T\\x87t\\x04\\xd5\\x83\\x83\\xa6\\x92\\xdb\\x88\\xac%\\x81\\xb9$\\x13\\xa8V\\xc7\\xd5\\xc9\\xc6\\x7f\\x1d\\xe9\\x93\\xe8\\x1d=9\\xdfS\\xb8;G=\\xc7\\x86\\x87\\x1dB(R\\x7f\\x9b\\x9a\\xad\\xc0\\x80\\xa3\\xf0\\xa8;\\xc8#\\xb4\\xb6\\x86\\xda\\xddyb\\x860\\xa8\\xbe\\x83\\xfb\\x153\\x1a\\xf9A\\xc9\\xd8c\\x14e\\xe8\\xa0{\\xf9p\\xa1N\\xe1\\xab\\xe7\\x7f\\xa5k\\x8f\\x88\\xe3\\x8b\\x95\\xed\\r\\xbcQ\\xfc\\x8b\\x7f\\xf7[\\xf6\\xa2\\xc7\\xc6Q\\xdb\\x19\\xf9\\n\\xf9\\xbf\\x8e\\\\\\xbf\\x1a\\xeb\\x8c\\xddE\\xc7(\\xfc\\x02\\xa8\\x1f\\xb5?\\xc3A\\xb7J\\x0e\\xe4\\x99d(\\x9b\\xf2\\xed\\xb7\\xafz\"g*\\xaeGP\\t\\x14\\xd5\\xa2\\x8f\\x96i\\x01\\xdam\\xbf\\x82\\x998\\xe64\\xe3\\xae\\xe4\\r\\xc5.3\\x88\\xc9\\x1d\\x85tJ\\x1b\\xccs\\x93TA/\\n\\x98w\\xe9\\xd0\\xe2\\x98\\xf8\\x84\\x1brQ\\x1a\\x82\\x85\\xb5\\x93\\x03\\xa5D\\xab1Py\\x8e\\xe2\\xa4\\xdf\\xff\\xd9'"
      ]
     },
     "execution_count": 30,
     "metadata": {},
     "output_type": "execute_result"
    }
   ],
   "source": [
    "requests.get(\"https://encrypted-tbn0.gstatic.com/images?q=tbn:ANd9GcSsksZmP_XTINDzPrOHKHR-fXCXDCXJctG2CPYNFjaVIxpN4gGIcQCd1n6N7-Y&s\").content"
   ]
  },
  {
   "cell_type": "code",
   "execution_count": 31,
   "id": "771c222d-7ffe-48bf-a3db-a1c09b31b100",
   "metadata": {},
   "outputs": [
    {
     "name": "stdout",
     "output_type": "stream",
     "text": [
      "0\n",
      "1\n",
      "2\n",
      "3\n",
      "4\n",
      "5\n",
      "6\n",
      "7\n",
      "8\n",
      "9\n",
      "10\n",
      "11\n",
      "12\n",
      "13\n",
      "14\n",
      "15\n",
      "16\n",
      "17\n",
      "18\n"
     ]
    }
   ],
   "source": [
    "for i in image_tags:\n",
    "    print(image_tags.index(i))"
   ]
  },
  {
   "cell_type": "code",
   "execution_count": 32,
   "id": "9cdc0a6b-1c6c-484b-8f89-a426504fbbd9",
   "metadata": {},
   "outputs": [],
   "source": [
    "for i in image_tags:\n",
    "    image_url=i['src']\n",
    "    image_data=requests.get(image_url).content\n",
    "    with open(os.path.join(save_dir,f\"{query}_{image_tags.index(i)}.jpg\"),\"wb\") as f:\n",
    "        f.write(image_data)"
   ]
  },
  {
   "cell_type": "code",
   "execution_count": null,
   "id": "f64a0d0a-83a7-4100-8847-eaa9a49130b2",
   "metadata": {},
   "outputs": [],
   "source": []
  },
  {
   "cell_type": "code",
   "execution_count": null,
   "id": "d05eb50e-b848-496a-ab8a-057bafa6cbb8",
   "metadata": {},
   "outputs": [],
   "source": []
  },
  {
   "cell_type": "code",
   "execution_count": null,
   "id": "aa49d9db-88bd-4417-a1ec-68e69af513ec",
   "metadata": {},
   "outputs": [],
   "source": []
  },
  {
   "cell_type": "code",
   "execution_count": null,
   "id": "2f977559-826a-4d53-80cc-762ab0225ce5",
   "metadata": {},
   "outputs": [],
   "source": []
  }
 ],
 "metadata": {
  "kernelspec": {
   "display_name": "Python 3 (ipykernel)",
   "language": "python",
   "name": "python3"
  },
  "language_info": {
   "codemirror_mode": {
    "name": "ipython",
    "version": 3
   },
   "file_extension": ".py",
   "mimetype": "text/x-python",
   "name": "python",
   "nbconvert_exporter": "python",
   "pygments_lexer": "ipython3",
   "version": "3.9.0"
  }
 },
 "nbformat": 4,
 "nbformat_minor": 5
}
